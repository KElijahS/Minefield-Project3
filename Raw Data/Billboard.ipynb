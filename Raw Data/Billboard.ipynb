{
 "cells": [
  {
   "cell_type": "code",
   "execution_count": 1,
   "id": "cd31edbe",
   "metadata": {},
   "outputs": [],
   "source": [
    "import pandas as pd\n",
    "from splinter import Browser\n",
    "from bs4 import BeautifulSoup as soup\n",
    "from webdriver_manager.chrome import ChromeDriverManager"
   ]
  },
  {
   "cell_type": "code",
   "execution_count": 2,
   "id": "13f54b26",
   "metadata": {},
   "outputs": [
    {
     "name": "stderr",
     "output_type": "stream",
     "text": [
      "\n",
      "\n",
      "====== WebDriver manager ======\n",
      "Current google-chrome version is 96.0.4664\n",
      "Get LATEST chromedriver version for 96.0.4664 google-chrome\n",
      "Driver [/Users/tyannapleasant/.wdm/drivers/chromedriver/mac64/96.0.4664.45/chromedriver] found in cache\n"
     ]
    }
   ],
   "source": [
    "executable_path = {'executable_path': ChromeDriverManager().install()}\n",
    "browser = Browser('chrome', **executable_path, headless=False)"
   ]
  },
  {
   "cell_type": "code",
   "execution_count": 3,
   "id": "ff4dc9ea",
   "metadata": {},
   "outputs": [],
   "source": [
    "url = 'https://www.billboard.com/charts/year-end/'\n",
    "browser.visit(url)"
   ]
  },
  {
   "cell_type": "code",
   "execution_count": 4,
   "id": "cc438aa9",
   "metadata": {},
   "outputs": [
    {
     "data": {
      "text/plain": [
       "False"
      ]
     },
     "execution_count": 4,
     "metadata": {},
     "output_type": "execute_result"
    }
   ],
   "source": [
    "browser.is_element_present_by_css('div.list_text', wait_time=1)"
   ]
  },
  {
   "cell_type": "code",
   "execution_count": 5,
   "id": "6c5ede0c",
   "metadata": {},
   "outputs": [
    {
     "name": "stdout",
     "output_type": "stream",
     "text": [
      "https://www.billboard.com/charts/year-end/2006/hot-100-songs/\n",
      "True\n",
      "rankings= 100\n",
      "titles= 100\n",
      "singers= 100\n",
      "https://www.billboard.com/charts/year-end/2007/hot-100-songs/\n",
      "True\n",
      "rankings= 100\n",
      "titles= 100\n",
      "singers= 100\n",
      "https://www.billboard.com/charts/year-end/2008/hot-100-songs/\n",
      "True\n",
      "rankings= 100\n",
      "titles= 100\n",
      "singers= 100\n",
      "https://www.billboard.com/charts/year-end/2009/hot-100-songs/\n",
      "True\n",
      "rankings= 100\n",
      "titles= 100\n",
      "singers= 100\n",
      "https://www.billboard.com/charts/year-end/2010/hot-100-songs/\n",
      "True\n",
      "rankings= 100\n",
      "titles= 100\n",
      "singers= 100\n",
      "https://www.billboard.com/charts/year-end/2011/hot-100-songs/\n",
      "True\n",
      "rankings= 99\n",
      "titles= 99\n",
      "singers= 99\n",
      "https://www.billboard.com/charts/year-end/2012/hot-100-songs/\n",
      "True\n",
      "rankings= 100\n",
      "titles= 100\n",
      "singers= 100\n",
      "https://www.billboard.com/charts/year-end/2013/hot-100-songs/\n",
      "True\n",
      "rankings= 100\n",
      "titles= 100\n",
      "singers= 100\n",
      "https://www.billboard.com/charts/year-end/2014/hot-100-songs/\n",
      "True\n",
      "rankings= 100\n",
      "titles= 100\n",
      "singers= 100\n",
      "https://www.billboard.com/charts/year-end/2015/hot-100-songs/\n",
      "True\n",
      "rankings= 100\n",
      "titles= 100\n",
      "singers= 100\n",
      "https://www.billboard.com/charts/year-end/2016/hot-100-songs/\n",
      "True\n",
      "rankings= 99\n",
      "titles= 99\n",
      "singers= 99\n",
      "https://www.billboard.com/charts/year-end/2017/hot-100-songs/\n",
      "True\n",
      "rankings= 100\n",
      "titles= 100\n",
      "singers= 100\n",
      "https://www.billboard.com/charts/year-end/2018/hot-100-songs/\n",
      "True\n",
      "rankings= 100\n",
      "titles= 100\n",
      "singers= 100\n",
      "https://www.billboard.com/charts/year-end/2019/hot-100-songs/\n",
      "True\n",
      "rankings= 100\n",
      "titles= 100\n",
      "singers= 100\n",
      "https://www.billboard.com/charts/year-end/2020/hot-100-songs/\n",
      "True\n",
      "rankings= 100\n",
      "titles= 100\n",
      "singers= 100\n"
     ]
    }
   ],
   "source": [
    "for year in range(2006, 2021):\n",
    "    url = f\"https://www.billboard.com/charts/year-end/{year}/hot-100-songs/\"\n",
    "    print(url)\n",
    "    \n",
    "    browser.visit(url)\n",
    "    print(browser.is_element_present_by_css(\"div.pmc-footer\", wait_time=1))\n",
    "    \n",
    "    html = browser.html\n",
    "    billboard_soup = soup(html, \"html.parser\")\n",
    "    \n",
    "    billboard_100 =billboard_soup.select(\"span.a-font-primary-bold-l\")\n",
    "    \n",
    "    song_rankings = []\n",
    "    \n",
    "    for rankings in billboard_100:\n",
    "#         print(rankings)\n",
    "        ranking = rankings.get_text().replace(\"\\n\", \"\")\n",
    "        song_rankings.append(ranking)\n",
    "        \n",
    "    print(f\"rankings= {len(song_rankings)}\")\n",
    "    \n",
    "    billboard_titles =  billboard_soup.select(\"h3.a-font-primary-bold-s\")\n",
    "\n",
    "    song_titles = []\n",
    "\n",
    "    for titles in billboard_titles:\n",
    "        title = titles.get_text().replace(\"\\n\", \"\")\n",
    "        song_titles.append(title)\n",
    "        \n",
    "    print(f\"titles= {len(song_titles)}\")\n",
    "    \n",
    "    billboard_singers =  billboard_soup.select(\"span.a-font-primary-s\")\n",
    "\n",
    "    song_singers = []\n",
    "\n",
    "    for singers in billboard_singers:\n",
    "        singer = singers.get_text().replace(\"\\n\", \"\")\n",
    "        song_singers.append(singer)\n",
    "        \n",
    "    print(f\"singers= {len(song_singers)}\") \n",
    "    \n",
    "    df = pd.DataFrame()\n",
    "\n",
    "    df[\"Ranking\"] = song_rankings\n",
    "    df[\"Title\"] = song_titles\n",
    "    df[\"Singer\"] = song_singers\n",
    "\n",
    "    df.to_csv(f\"billboard_{year}.csv\", index=False) "
   ]
  },
  {
   "cell_type": "code",
   "execution_count": 6,
   "id": "d5e33736",
   "metadata": {},
   "outputs": [],
   "source": [
    "df.to_csv(f\"billboard_{year}.csv\", index=False) "
   ]
  }
 ],
 "metadata": {
  "kernelspec": {
   "display_name": "Python 3",
   "language": "python",
   "name": "python3"
  },
  "language_info": {
   "codemirror_mode": {
    "name": "ipython",
    "version": 3
   },
   "file_extension": ".py",
   "mimetype": "text/x-python",
   "name": "python",
   "nbconvert_exporter": "python",
   "pygments_lexer": "ipython3",
   "version": "3.8.8"
  }
 },
 "nbformat": 4,
 "nbformat_minor": 5
}
